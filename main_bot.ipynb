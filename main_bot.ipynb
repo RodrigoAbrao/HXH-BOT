{
 "cells": [
  {
   "cell_type": "code",
   "execution_count": 31,
   "metadata": {},
   "outputs": [],
   "source": [
    "import pyautogui\n",
    "import cv2\n",
    "def procurar_imagem_na_tela(imagem, threshold=0.87):\n",
    "    try:\n",
    "        localizacao = pyautogui.locateOnScreen(imagem, confidence=threshold)\n",
    "        if localizacao is not None:\n",
    "            return True\n",
    "        else:\n",
    "            return False\n",
    "    except Exception as e:\n",
    "        print(f\"Ocorreu um erro: {e}\")\n",
    "        return False\n"
   ]
  },
  {
   "cell_type": "code",
   "execution_count": 32,
   "metadata": {},
   "outputs": [],
   "source": [
    "import pyautogui\n",
    "\n",
    "def procurar_imagem_na_tela(imagem, threshold=0.87, region=(727, 40, 1194, 1004)):\n",
    "    try:\n",
    "        # Convert image to grayscale to improve performance\n",
    "        # Assuming 'imagem' is a file path, otherwise you'll need to convert the image object to grayscale\n",
    "        localizacao = pyautogui.locateOnScreen(imagem, confidence=threshold, grayscale=True, region=region)\n",
    "        return localizacao is not None\n",
    "    except Exception as e:\n",
    "        print(f\"Ocorreu um erro: {e}\")\n",
    "        return False\n",
    "\n",
    "# Example usage: procurar_imagem_na_tela('image.png', region=(0, 0, 800, 600))\n",
    "# Adjust the region coordinates (0, 0, 800, 600) as per your screen setup\n"
   ]
  },
  {
   "cell_type": "code",
   "execution_count": 33,
   "metadata": {},
   "outputs": [],
   "source": [
    "import pyautogui\n",
    "import time\n",
    "\n",
    "def procurar_e_clicar_imagem(imagem, threshold=0.87, region=(727, 40, 1194, 1004), delay=0.1):\n",
    "    try:\n",
    "        # Use grayscale for faster processing and optionally limit the search area\n",
    "        localizacao = pyautogui.locateCenterOnScreen(imagem, confidence=threshold, grayscale=True, region=region)\n",
    "        if localizacao is not None:\n",
    "            time.sleep(delay)  # Wait for a short duration before clicking\n",
    "            pyautogui.click(localizacao)\n",
    "            return True\n",
    "        else:\n",
    "            return False\n",
    "    except Exception as e:\n",
    "        print(f\"Ocorreu um erro: {e}\")\n",
    "        return False\n",
    "\n",
    "# Example usage: procurar_e_clicar_imagem('image.png', region=(0, 0, 800, 600))\n",
    "# Adjust the region coordinates (0, 0, 800, 600) as per your screen setup\n"
   ]
  },
  {
   "cell_type": "code",
   "execution_count": 34,
   "metadata": {},
   "outputs": [],
   "source": [
    "import pyautogui\n",
    "import time\n",
    "\n",
    "#Clica na imagem, segura, move para direita e libera\n",
    "def procurar_e_clicar_e_mover_imagem(imagem, threshold=0.87, region=(727, 40, 1194, 1004), delay=0.1):\n",
    "    try:\n",
    "        # Use grayscale for faster processing and optionally limit the search area\n",
    "        localizacao = pyautogui.locateCenterOnScreen(imagem, confidence=threshold, grayscale=True, region=region)\n",
    "        if localizacao is not None:\n",
    "            time.sleep(delay)  # Wait for a short duration before clicking\n",
    "            pyautogui.mouseDown(localizacao)\n",
    "            pyautogui.moveTo(localizacao[0]+200)\n",
    "            pyautogui.mouseUp()\n",
    "            return True\n",
    "    except Exception as e:\n",
    "        print(f\"Ocorreu um erro: {e}\")\n",
    "        return False\n",
    "        \n"
   ]
  },
  {
   "cell_type": "code",
   "execution_count": 35,
   "metadata": {},
   "outputs": [],
   "source": [
    "import pyautogui\n",
    "\n",
    "def procurar_e_clicar_imagem(imagem, threshold=0.87):\n",
    "    try:\n",
    "        localizacao = pyautogui.locateCenterOnScreen(imagem, confidence=threshold)\n",
    "        if localizacao is not None:\n",
    "            pyautogui.click(localizacao)\n",
    "            return True\n",
    "        else:\n",
    "            return False\n",
    "    except Exception as e:\n",
    "        print(f\"Ocorreu um erro: {e}\")\n",
    "        return False\n"
   ]
  },
  {
   "cell_type": "code",
   "execution_count": 36,
   "metadata": {},
   "outputs": [],
   "source": [
    "import pyautogui\n",
    "\n",
    "def clicar_em_posicao_especifica(x, y):\n",
    "    try:\n",
    "        pyautogui.click(x, y)\n",
    "        return True\n",
    "    except Exception as e:\n",
    "        print(f\"Ocorreu um erro: {e}\")\n",
    "        return False\n",
    "\n"
   ]
  },
  {
   "cell_type": "code",
   "execution_count": 37,
   "metadata": {},
   "outputs": [
    {
     "data": {
      "text/plain": [
       "'\\nfrom pynput.mouse import Listener\\nimport threading\\n\\nclique_posicao = None\\n\\ndef on_click(x, y, button, pressed):\\n    global clique_posicao\\n    if pressed:\\n        clique_posicao = (x, y)\\n        return False  # Retorna False para parar o listener\\n\\ndef aguardar_e_pegar_posicao_do_clique():\\n    with Listener(on_click=on_click) as listener:\\n        listener.join()\\n    return clique_posicao\\n\\n# Usando a função\\nposicao_clique = aguardar_e_pegar_posicao_do_clique()\\nprint(f\"A posição do clique foi: {posicao_clique}\")\\n'"
      ]
     },
     "execution_count": 37,
     "metadata": {},
     "output_type": "execute_result"
    }
   ],
   "source": [
    "\n",
    "'''\n",
    "from pynput.mouse import Listener\n",
    "import threading\n",
    "\n",
    "clique_posicao = None\n",
    "\n",
    "def on_click(x, y, button, pressed):\n",
    "    global clique_posicao\n",
    "    if pressed:\n",
    "        clique_posicao = (x, y)\n",
    "        return False  # Retorna False para parar o listener\n",
    "\n",
    "def aguardar_e_pegar_posicao_do_clique():\n",
    "    with Listener(on_click=on_click) as listener:\n",
    "        listener.join()\n",
    "    return clique_posicao\n",
    "\n",
    "# Usando a função\n",
    "posicao_clique = aguardar_e_pegar_posicao_do_clique()\n",
    "print(f\"A posição do clique foi: {posicao_clique}\")\n",
    "'''\n"
   ]
  },
  {
   "cell_type": "code",
   "execution_count": 38,
   "metadata": {},
   "outputs": [],
   "source": [
    "#Posição de começar a jogar \"(205, 803)\"\n",
    "#A posição da skill foi: (966, 499)\n",
    "#Posicao começar outra onda (962, 739)\n",
    "#Posicao fechar game apos morrer (1171, 73)\n",
    "#A posição do clique foi: (801, 259)\n",
    "#A posição do clique foi: (1114, 318)\n"
   ]
  },
  {
   "cell_type": "code",
   "execution_count": 39,
   "metadata": {},
   "outputs": [],
   "source": [
    "localizacao_botao_comecar_jogar = \"images//BOTAO_JOGAR.PNG\"\n",
    "localizacao_botao_embaralhar = \"images//EMBARALHAR.PNG\"\n",
    "localizacao_botao_reviver = 'images//REVIVER.PNG'\n",
    "localizacao_onda_completa = \"images//ONDA_HARD_COMPLETA.PNG\"\n",
    "localizacao_onda_completa2 = \"images//ONDA_HARD_COMPLETA_2.PNG\"\n",
    "localizacao_morreu_completo = \"images//REVIVER_60GEMA.PNG\"\n",
    "localizacao_dobrar_recompensas = 'images//DOBRAR_RECOMEPNSAS.PNG'\n",
    "localizacao_botao_receber = 'images//RECEBER.PNG'\n",
    "localizacao_botao_bau = 'images//BAU.PNG'\n",
    "localizacao_botao_bau2 = 'images//BAU2.PNG'\n",
    "localizacao_skill = 'images//NOVA_SKILL.PNG'\n",
    "localizacao_autoselecao = 'images//AUTOSELECAO.PNG'\n",
    "localizacao_mutiplique = 'images//MULTI.PNG'\n",
    "localizacao_dobrar_recompensa_morte = 'images//DOBRAR_RECOMPENSA_MORTE.PNG'\n",
    "localizacao_reforco_energetico = 'images//REFORCO_ENERGETICO.PNG'\n",
    "localizacao_reforco_bonus_free = 'images//REFORCO_BONUS_FREE.PNG'\n",
    "localizacao_reforco_bonus_pago = 'images//REFORCO_BONUS_PAGO.PNG'\n",
    "localizacao_fechar_window = 'images//FECHAR_WINDOW.PNG'\n",
    "localizacao_fechar_window2 = 'images//FECHAR_WINDOW_2.PNG'\n",
    "localizacao_fechar_window3 = 'images//FECHAR_WINDOW_3.PNG'\n",
    "\n",
    "\n",
    "#Localizacao imagens skills\n",
    "localizacao_skill_aura_duvina = 'images//SKILLS//AURA_DIVINA.PNG'\n",
    "localizacao_skill_livro_regeneracao = 'images//SKILLS//LIVRO_REGENERACAO.PNG'\n",
    "\n",
    "localizacao_skill_esfera_de_fogo = 'images//SKILLS//ESFERAS_DE_FOGO.PNG'\n",
    "localizacao_skill_livro_duplicacao = 'images//SKILLS//LIVRO_DUPLICACAO.PNG'\n",
    "\n",
    "localizacao_skill_varinha_de_gelo= 'images//SKILLS//VARINHA_GELO.PNG'\n",
    "localizacao_skill_livro_da_vida = 'images//SKILLS//LIVRO_DA_VIDA.PNG'\n",
    "\n",
    "localizacao_skill_livro_area = 'images//SKILLS//LIVRO_AREA.PNG'\n",
    "localizacao_skill_livro_bomba = 'images//SKILLS//LIVRO_BOMBA.PNG'\n",
    "\n",
    "localizacao_skill_bumerangue = 'images//SKILLS//LIVRO_BUMERANGUE.PNG'\n",
    "localizacao_skill_livro_do_movimento = 'images//SKILLS//LIVRO_DO_MOVIMENTO.PNG'\n",
    "\n",
    "localizacao_skill_livro_espera = 'images//SKILLS//LIVRO_ESPERA.PNG'\n",
    "\n",
    "localizacao_skill_livro_moedas= 'images//SKILLS//LIVRO_MOEDAS.PNG'\n",
    "\n",
    "localizacao_skill_shuriken = 'images//SKILLS//SHURIKEN.PNG'\n",
    "\n",
    "localizacao_botao_lock = r'images\\BOTAO_LOCK.PNG'\n",
    "\n",
    "localizacao_skill_cajado_arcano = r'images\\SKILLS\\CAJADO_ARCANO.png'\n",
    "localizacao_skill_livro_duracao = r'images\\SKILLS\\LIVRO_DURACAO.png'\n",
    "localizacao_skill_raio_da_morte = r'images\\SKILLS\\RAIO_DA_MORTE.png'\n",
    "\n",
    "\n"
   ]
  },
  {
   "cell_type": "code",
   "execution_count": 40,
   "metadata": {},
   "outputs": [],
   "source": [
    "#Função que seleciona a skill de acordo com a prioridade e clica na imagem, e se não existe skill na lista na tela, clica em uma posição especifica\n",
    "\n",
    "def seletor_de_skill_inteligente():\n",
    "    if procurar_imagem_na_tela(localizacao_skill):\n",
    "        print(\"Entrou na pagina de selecionar skill, vou clicar no up da primeira skill\")\n",
    "        if procurar_e_clicar_imagem(localizacao_skill_livro_area):\n",
    "            print(\"A skill selecionada foi: Livro da Área\")\n",
    "        elif procurar_e_clicar_imagem(localizacao_skill_shuriken):\n",
    "            print(\"A skill selecionada foi: Shuriken\")\n",
    "        #moedas\n",
    "        elif procurar_e_clicar_imagem(localizacao_skill_livro_moedas):\n",
    "            print(\"A skill selecionada foi: Livro de Moedas\")\n",
    "        elif procurar_e_clicar_imagem(localizacao_skill_livro_duplicacao):\n",
    "            print(\"A skill selecionada foi: Livro de Duplicação\")\n",
    "        elif procurar_e_clicar_imagem(localizacao_skill_bumerangue):\n",
    "            print(\"A skill selecionada foi: Bumerangue\")\n",
    "        elif procurar_e_clicar_imagem(localizacao_skill_livro_do_movimento):\n",
    "            print(\"A skill selecionada foi: Livro do Movimento\")\n",
    "        elif procurar_e_clicar_imagem(localizacao_skill_livro_bomba):\n",
    "            print(\"A skill selecionada foi: Livro Bomba\")\n",
    "        elif procurar_e_clicar_imagem(localizacao_skill_livro_espera):\n",
    "            print(\"A skill selecionada foi: Livro de Espera\")\n",
    "        elif procurar_e_clicar_imagem(localizacao_skill_esfera_de_fogo):\n",
    "            print(\"A skill selecionada foi: Esferas de Fogo\")\n",
    "        elif procurar_e_clicar_imagem(localizacao_botao_embaralhar):\n",
    "            print(\"Tentar Embaralhar\")\n",
    "        else:\n",
    "            clicar_em_posicao_especifica(966, 499)\n",
    "            print(\"Não existe skill na lista, clicando em uma posição especifica\")\n"
   ]
  },
  {
   "cell_type": "code",
   "execution_count": 41,
   "metadata": {},
   "outputs": [],
   "source": [
    "#Clicar em começar a jogar\n",
    "def comecar_a_jogar():\n",
    "    if procurar_imagem_na_tela(localizacao_botao_comecar_jogar):\n",
    "        print(\"Achei o botão de começar a jogar\")\n",
    "        procurar_e_clicar_imagem(localizacao_botao_comecar_jogar)\n",
    "        return True\n",
    "    else:\n",
    "        print(\"Não achei o botão de começar a jogar\")\n",
    "        return False\n",
    "\n"
   ]
  },
  {
   "cell_type": "code",
   "execution_count": 42,
   "metadata": {},
   "outputs": [],
   "source": [
    "procurar_e_clicar_e_mover_imagem\n",
    "def clicar_em_lock_e_mover():\n",
    "    if procurar_e_clicar_e_mover_imagem(localizacao_botao_lock):\n",
    "        print(\"Achei o botão de lock\")\n",
    "        procurar_e_clicar_e_mover_imagem(localizacao_botao_lock)\n",
    "        return True\n",
    "    else:\n",
    "        print(\"Não achei o botão de lock\")\n",
    "        return False"
   ]
  },
  {
   "cell_type": "code",
   "execution_count": 43,
   "metadata": {},
   "outputs": [],
   "source": [
    "def selecionar_up_skill():\n",
    "    if procurar_imagem_na_tela(localizacao_skill):\n",
    "        print(\"Entrou na pagina de selecionar skill, vou clicar no up da primeira skill\")\n",
    "        clicar_em_posicao_especifica(966, 499)\n",
    "        return True\n",
    "    else:\n",
    "        print(\"Não entrou na pagina de selecionar skill\")\n",
    "        return False\n",
    "\n"
   ]
  },
  {
   "cell_type": "code",
   "execution_count": 44,
   "metadata": {},
   "outputs": [],
   "source": [
    "def reviver_free():\n",
    "    if procurar_imagem_na_tela(localizacao_botao_reviver):\n",
    "        print(\"Entrou na pagina de reviver, vou clicar em reviver\")\n",
    "        procurar_e_clicar_imagem(localizacao_botao_reviver)\n",
    "        return True\n",
    "    else:\n",
    "        print(\"Não entrou na pagina de reviver\")\n",
    "        return False"
   ]
  },
  {
   "cell_type": "code",
   "execution_count": 45,
   "metadata": {},
   "outputs": [],
   "source": [
    "def multiplique_5x():\n",
    "    if procurar_imagem_na_tela(localizacao_mutiplique):\n",
    "        print(\"Entrou na pagina de multiplique, vou clicar em 5x\")\n",
    "        procurar_e_clicar_imagem(localizacao_mutiplique)\n",
    "        return True\n",
    "    else:\n",
    "        print(\"Não entrou na pagina de multiplique\")\n",
    "        return False"
   ]
  },
  {
   "cell_type": "code",
   "execution_count": 46,
   "metadata": {},
   "outputs": [],
   "source": [
    "def auto_selecao_money_life():\n",
    "    if procurar_imagem_na_tela(localizacao_autoselecao):\n",
    "        print(\"Selecionar auto seleção\")\n",
    "        procurar_e_clicar_imagem(localizacao_autoselecao)\n",
    "        return True\n",
    "    else:\n",
    "        print(\"Não entrou na pagina de auto seleção money life\")\n",
    "        return False"
   ]
  },
  {
   "cell_type": "code",
   "execution_count": 47,
   "metadata": {},
   "outputs": [],
   "source": [
    "def comecar_nova_onda():#A posição do clique foi: (801, 259)\n",
    "#A posição do clique foi: (1114, 318)\n",
    "    if procurar_imagem_na_tela(localizacao_onda_completa, 0.85) or procurar_imagem_na_tela(localizacao_onda_completa2, 0.85):\n",
    "        print(\"Achei a onda completa, vou começar outra\")\n",
    "        clicar_em_posicao_especifica(962, 739)\n",
    "        return True\n",
    "    else:\n",
    "        print(\"Não achei a onda completa\")\n",
    "        return False"
   ]
  },
  {
   "cell_type": "code",
   "execution_count": 48,
   "metadata": {},
   "outputs": [],
   "source": [
    "def fecha_round_apos_morrer():\n",
    "    if procurar_imagem_na_tela(localizacao_morreu_completo):\n",
    "        print(\"Achei a tela de morreu final, vou fechar o jogo\")\n",
    "        clicar_em_posicao_especifica(1171, 73)\n",
    "        return True\n",
    "    else:\n",
    "        print(\"Não achei a tela de morreu\")\n",
    "        return False"
   ]
  },
  {
   "cell_type": "code",
   "execution_count": 49,
   "metadata": {},
   "outputs": [],
   "source": [
    "def dobrar_recomepnsas():\n",
    "    if procurar_imagem_na_tela(localizacao_dobrar_recompensas):\n",
    "        print(\"Achei a tela de recompensas, vou dobrar\")\n",
    "        procurar_e_clicar_imagem(localizacao_dobrar_recompensas)\n",
    "        return True\n",
    "    else:\n",
    "        print(\"Não achei a tela de recompensas\")\n",
    "        return False"
   ]
  },
  {
   "cell_type": "code",
   "execution_count": 50,
   "metadata": {},
   "outputs": [],
   "source": [
    "def receber_recompensa():\n",
    "    if procurar_imagem_na_tela(localizacao_botao_receber):\n",
    "        print(\"Achei a tela de receber, vou receber\")\n",
    "        procurar_e_clicar_imagem(localizacao_botao_receber)\n",
    "        return True\n",
    "    else:\n",
    "        print(\"Não achei a tela de receber\")\n",
    "        return False"
   ]
  },
  {
   "cell_type": "code",
   "execution_count": 51,
   "metadata": {},
   "outputs": [],
   "source": [
    "def receber_bau():\n",
    "    if procurar_imagem_na_tela(localizacao_botao_bau):\n",
    "        print(\"Achei a tela de receber, vou receber\")\n",
    "        #Meche o mouse simulando ações laterais\n",
    "        \n",
    "        procurar_e_clicar_imagem(localizacao_botao_bau)\n",
    "        return True\n",
    "    else:\n",
    "        print(\"Não achei a tela de receber\")\n",
    "        return False"
   ]
  },
  {
   "cell_type": "code",
   "execution_count": 52,
   "metadata": {},
   "outputs": [],
   "source": [
    "def receber_bau2():\n",
    "    if procurar_imagem_na_tela(localizacao_botao_bau2):\n",
    "        print(\"Achei a tela de receber, vou receber\")\n",
    "        procurar_e_clicar_imagem(localizacao_botao_bau2)\n",
    "        #ESPERA 2 SEGUNDOS E CLICA DENOVO\n",
    "        pyautogui.sleep(2)\n",
    "        procurar_e_clicar_imagem(localizacao_botao_bau2)\n",
    "\n",
    "        return True\n",
    "    else:\n",
    "        print(\"Não achei a tela de receber\")\n",
    "        return False"
   ]
  },
  {
   "cell_type": "code",
   "execution_count": 53,
   "metadata": {},
   "outputs": [],
   "source": [
    "def dobrar_recompensa_morte():\n",
    "    if procurar_imagem_na_tela(localizacao_dobrar_recompensa_morte):\n",
    "        print(\"Achei a tela de recompensas pos morte, vou dobrar\")\n",
    "        procurar_e_clicar_imagem(localizacao_dobrar_recompensa_morte)\n",
    "        return True\n",
    "    else:\n",
    "        print(\"Não achei a tela de recompensas\")\n",
    "        return False"
   ]
  },
  {
   "cell_type": "code",
   "execution_count": 54,
   "metadata": {},
   "outputs": [],
   "source": [
    "def reforco_energetico(aceita_reforco_energia_pago):\n",
    "    if procurar_imagem_na_tela(localizacao_reforco_energetico):\n",
    "        \n",
    "        print(\"Achei a tela de reforço energetico\")\n",
    "        #Tenta clicar no bonus free\n",
    "        if procurar_e_clicar_imagem(localizacao_reforco_bonus_free):\n",
    "            print(\"Clicou no bonus free\")\n",
    "            return True\n",
    "        #Tenta clicar no bonu}}s pago\n",
    "        elif procurar_e_clicar_imagem(localizacao_reforco_bonus_pago) and aceita_reforco_energia_pago:\n",
    "            print(\"Clicou no bonus pago\")\n",
    "            return True\n",
    "        else:\n",
    "            print(\"Não achou nenhum bonus\")\n",
    "            return False\n",
    "    else:\n",
    "        print(\"Não achei a tela de reforço energetico\")\n",
    "        return False"
   ]
  },
  {
   "cell_type": "code",
   "execution_count": 55,
   "metadata": {},
   "outputs": [],
   "source": [
    "def fechar_window_propaganda():\n",
    "    if procurar_imagem_na_tela(localizacao_fechar_window):\n",
    "        print(\"Achei a tela de propaganda, vou fechar\")\n",
    "        procurar_e_clicar_imagem(localizacao_fechar_window)\n",
    "        return True\n",
    "    elif procurar_imagem_na_tela(localizacao_fechar_window2):\n",
    "        print(\"Achei a tela de propaganda, vou fechar\")\n",
    "        procurar_e_clicar_imagem(localizacao_fechar_window2)\n",
    "        return True\n",
    "    elif procurar_imagem_na_tela(localizacao_fechar_window3):\n",
    "        print(\"Achei a tela de propaganda, vou fechar\")\n",
    "        procurar_e_clicar_imagem(localizacao_fechar_window3)\n",
    "        return True\n",
    "    else:\n",
    "        print(\"Não achei a tela de propaganda\")\n",
    "        return False"
   ]
  },
  {
   "cell_type": "code",
   "execution_count": 56,
   "metadata": {},
   "outputs": [],
   "source": [
    "def clicar_em_posicao_especifica(x, y):\n",
    "    try:\n",
    "        pyautogui.click(x, y)\n",
    "        return True\n",
    "    except Exception as e:\n",
    "        print(f\"Ocorreu um erro: {e}\")\n",
    "        return False"
   ]
  },
  {
   "cell_type": "code",
   "execution_count": 57,
   "metadata": {},
   "outputs": [],
   "source": [
    "#Corpo principal\n",
    "import time\n",
    "def main(aceita_reforco_energia_pago):\n",
    "    print(\"Iniciando o bot\")\n",
    "    aux = 1\n",
    "    while True:\n",
    "        #For conta 5 minutos entre uma vez e reseta o tempo\n",
    "        if aux != 20:\n",
    "            time.sleep(1)\n",
    "            aux = aux + 1\n",
    "        else:\n",
    "            aux = 1\n",
    "            clicar_em_posicao_especifica(728, 921)#Click em ponto especifico para o celular não travar por inatividade\n",
    "                \n",
    "\n",
    "\n",
    "        comecar_a_jogar()\n",
    "        for i in range(0, 10):\n",
    "            seletor_de_skill_inteligente()\n",
    "        reviver_free()\n",
    "        comecar_nova_onda()\n",
    "        fecha_round_apos_morrer()\n",
    "        dobrar_recomepnsas()\n",
    "        receber_recompensa()\n",
    "        receber_bau()\n",
    "        receber_bau2()\n",
    "        auto_selecao_money_life()\n",
    "        clicar_em_lock_e_mover()\n",
    "        multiplique_5x()\n",
    "        dobrar_recompensa_morte()\n",
    "        reforco_energetico(aceita_reforco_energia_pago)\n",
    "        fechar_window_propaganda()\n",
    "        "
   ]
  },
  {
   "cell_type": "code",
   "execution_count": 58,
   "metadata": {},
   "outputs": [
    {
     "name": "stdout",
     "output_type": "stream",
     "text": [
      "Iniciando o bot\n",
      "Ocorreu um erro: \n",
      "Não achei o botão de começar a jogar\n",
      "Ocorreu um erro: \n",
      "Ocorreu um erro: \n",
      "Ocorreu um erro: \n"
     ]
    },
    {
     "ename": "KeyboardInterrupt",
     "evalue": "",
     "output_type": "error",
     "traceback": [
      "\u001b[1;31m---------------------------------------------------------------------------\u001b[0m",
      "\u001b[1;31mKeyboardInterrupt\u001b[0m                         Traceback (most recent call last)",
      "Cell \u001b[1;32mIn[58], line 2\u001b[0m\n\u001b[0;32m      1\u001b[0m aceita_reforco_energia_pago \u001b[38;5;241m=\u001b[39m \u001b[38;5;28;01mTrue\u001b[39;00m\n\u001b[1;32m----> 2\u001b[0m \u001b[43mmain\u001b[49m\u001b[43m(\u001b[49m\u001b[43maceita_reforco_energia_pago\u001b[49m\u001b[43m)\u001b[49m\n",
      "Cell \u001b[1;32mIn[57], line 19\u001b[0m, in \u001b[0;36mmain\u001b[1;34m(aceita_reforco_energia_pago)\u001b[0m\n\u001b[0;32m     17\u001b[0m comecar_a_jogar()\n\u001b[0;32m     18\u001b[0m \u001b[38;5;28;01mfor\u001b[39;00m i \u001b[38;5;129;01min\u001b[39;00m \u001b[38;5;28mrange\u001b[39m(\u001b[38;5;241m0\u001b[39m, \u001b[38;5;241m10\u001b[39m):\n\u001b[1;32m---> 19\u001b[0m     \u001b[43mseletor_de_skill_inteligente\u001b[49m\u001b[43m(\u001b[49m\u001b[43m)\u001b[49m\n\u001b[0;32m     20\u001b[0m reviver_free()\n\u001b[0;32m     21\u001b[0m comecar_nova_onda()\n",
      "Cell \u001b[1;32mIn[40], line 4\u001b[0m, in \u001b[0;36mseletor_de_skill_inteligente\u001b[1;34m()\u001b[0m\n\u001b[0;32m      3\u001b[0m \u001b[38;5;28;01mdef\u001b[39;00m \u001b[38;5;21mseletor_de_skill_inteligente\u001b[39m():\n\u001b[1;32m----> 4\u001b[0m     \u001b[38;5;28;01mif\u001b[39;00m \u001b[43mprocurar_imagem_na_tela\u001b[49m\u001b[43m(\u001b[49m\u001b[43mlocalizacao_skill\u001b[49m\u001b[43m)\u001b[49m:\n\u001b[0;32m      5\u001b[0m         \u001b[38;5;28mprint\u001b[39m(\u001b[38;5;124m\"\u001b[39m\u001b[38;5;124mEntrou na pagina de selecionar skill, vou clicar no up da primeira skill\u001b[39m\u001b[38;5;124m\"\u001b[39m)\n\u001b[0;32m      6\u001b[0m         \u001b[38;5;28;01mif\u001b[39;00m procurar_e_clicar_imagem(localizacao_skill_livro_area):\n",
      "Cell \u001b[1;32mIn[32], line 7\u001b[0m, in \u001b[0;36mprocurar_imagem_na_tela\u001b[1;34m(imagem, threshold, region)\u001b[0m\n\u001b[0;32m      3\u001b[0m \u001b[38;5;28;01mdef\u001b[39;00m \u001b[38;5;21mprocurar_imagem_na_tela\u001b[39m(imagem, threshold\u001b[38;5;241m=\u001b[39m\u001b[38;5;241m0.87\u001b[39m, region\u001b[38;5;241m=\u001b[39m(\u001b[38;5;241m727\u001b[39m, \u001b[38;5;241m40\u001b[39m, \u001b[38;5;241m1194\u001b[39m, \u001b[38;5;241m1004\u001b[39m)):\n\u001b[0;32m      4\u001b[0m     \u001b[38;5;28;01mtry\u001b[39;00m:\n\u001b[0;32m      5\u001b[0m         \u001b[38;5;66;03m# Convert image to grayscale to improve performance\u001b[39;00m\n\u001b[0;32m      6\u001b[0m         \u001b[38;5;66;03m# Assuming 'imagem' is a file path, otherwise you'll need to convert the image object to grayscale\u001b[39;00m\n\u001b[1;32m----> 7\u001b[0m         localizacao \u001b[38;5;241m=\u001b[39m \u001b[43mpyautogui\u001b[49m\u001b[38;5;241;43m.\u001b[39;49m\u001b[43mlocateOnScreen\u001b[49m\u001b[43m(\u001b[49m\u001b[43mimagem\u001b[49m\u001b[43m,\u001b[49m\u001b[43m \u001b[49m\u001b[43mconfidence\u001b[49m\u001b[38;5;241;43m=\u001b[39;49m\u001b[43mthreshold\u001b[49m\u001b[43m,\u001b[49m\u001b[43m \u001b[49m\u001b[43mgrayscale\u001b[49m\u001b[38;5;241;43m=\u001b[39;49m\u001b[38;5;28;43;01mTrue\u001b[39;49;00m\u001b[43m,\u001b[49m\u001b[43m \u001b[49m\u001b[43mregion\u001b[49m\u001b[38;5;241;43m=\u001b[39;49m\u001b[43mregion\u001b[49m\u001b[43m)\u001b[49m\n\u001b[0;32m      8\u001b[0m         \u001b[38;5;28;01mreturn\u001b[39;00m localizacao \u001b[38;5;129;01mis\u001b[39;00m \u001b[38;5;129;01mnot\u001b[39;00m \u001b[38;5;28;01mNone\u001b[39;00m\n\u001b[0;32m      9\u001b[0m     \u001b[38;5;28;01mexcept\u001b[39;00m \u001b[38;5;167;01mException\u001b[39;00m \u001b[38;5;28;01mas\u001b[39;00m e:\n",
      "File \u001b[1;32m~\\AppData\\Local\\Packages\\PythonSoftwareFoundation.Python.3.11_qbz5n2kfra8p0\\LocalCache\\local-packages\\Python311\\site-packages\\pyautogui\\__init__.py:172\u001b[0m, in \u001b[0;36mraisePyAutoGUIImageNotFoundException.<locals>.wrapper\u001b[1;34m(*args, **kwargs)\u001b[0m\n\u001b[0;32m    169\u001b[0m \u001b[38;5;129m@functools\u001b[39m\u001b[38;5;241m.\u001b[39mwraps(wrappedFunction)\n\u001b[0;32m    170\u001b[0m \u001b[38;5;28;01mdef\u001b[39;00m \u001b[38;5;21mwrapper\u001b[39m(\u001b[38;5;241m*\u001b[39margs, \u001b[38;5;241m*\u001b[39m\u001b[38;5;241m*\u001b[39mkwargs):\n\u001b[0;32m    171\u001b[0m     \u001b[38;5;28;01mtry\u001b[39;00m:\n\u001b[1;32m--> 172\u001b[0m         \u001b[38;5;28;01mreturn\u001b[39;00m \u001b[43mwrappedFunction\u001b[49m\u001b[43m(\u001b[49m\u001b[38;5;241;43m*\u001b[39;49m\u001b[43margs\u001b[49m\u001b[43m,\u001b[49m\u001b[43m \u001b[49m\u001b[38;5;241;43m*\u001b[39;49m\u001b[38;5;241;43m*\u001b[39;49m\u001b[43mkwargs\u001b[49m\u001b[43m)\u001b[49m\n\u001b[0;32m    173\u001b[0m     \u001b[38;5;28;01mexcept\u001b[39;00m pyscreeze\u001b[38;5;241m.\u001b[39mImageNotFoundException:\n\u001b[0;32m    174\u001b[0m         \u001b[38;5;28;01mraise\u001b[39;00m ImageNotFoundException\n",
      "File \u001b[1;32m~\\AppData\\Local\\Packages\\PythonSoftwareFoundation.Python.3.11_qbz5n2kfra8p0\\LocalCache\\local-packages\\Python311\\site-packages\\pyautogui\\__init__.py:210\u001b[0m, in \u001b[0;36mlocateOnScreen\u001b[1;34m(*args, **kwargs)\u001b[0m\n\u001b[0;32m    208\u001b[0m \u001b[38;5;129m@raisePyAutoGUIImageNotFoundException\u001b[39m\n\u001b[0;32m    209\u001b[0m \u001b[38;5;28;01mdef\u001b[39;00m \u001b[38;5;21mlocateOnScreen\u001b[39m(\u001b[38;5;241m*\u001b[39margs, \u001b[38;5;241m*\u001b[39m\u001b[38;5;241m*\u001b[39mkwargs):\n\u001b[1;32m--> 210\u001b[0m     \u001b[38;5;28;01mreturn\u001b[39;00m \u001b[43mpyscreeze\u001b[49m\u001b[38;5;241;43m.\u001b[39;49m\u001b[43mlocateOnScreen\u001b[49m\u001b[43m(\u001b[49m\u001b[38;5;241;43m*\u001b[39;49m\u001b[43margs\u001b[49m\u001b[43m,\u001b[49m\u001b[43m \u001b[49m\u001b[38;5;241;43m*\u001b[39;49m\u001b[38;5;241;43m*\u001b[39;49m\u001b[43mkwargs\u001b[49m\u001b[43m)\u001b[49m\n",
      "File \u001b[1;32m~\\AppData\\Local\\Packages\\PythonSoftwareFoundation.Python.3.11_qbz5n2kfra8p0\\LocalCache\\local-packages\\Python311\\site-packages\\pyscreeze\\__init__.py:405\u001b[0m, in \u001b[0;36mlocateOnScreen\u001b[1;34m(image, minSearchTime, **kwargs)\u001b[0m\n\u001b[0;32m    401\u001b[0m \u001b[38;5;28;01mtry\u001b[39;00m:\n\u001b[0;32m    402\u001b[0m     \u001b[38;5;66;03m# the locateAll() function must handle cropping to return accurate coordinates,\u001b[39;00m\n\u001b[0;32m    403\u001b[0m     \u001b[38;5;66;03m# so don't pass a region here.\u001b[39;00m\n\u001b[0;32m    404\u001b[0m     screenshotIm \u001b[38;5;241m=\u001b[39m screenshot(region\u001b[38;5;241m=\u001b[39m\u001b[38;5;28;01mNone\u001b[39;00m)\n\u001b[1;32m--> 405\u001b[0m     retVal \u001b[38;5;241m=\u001b[39m \u001b[43mlocate\u001b[49m\u001b[43m(\u001b[49m\u001b[43mimage\u001b[49m\u001b[43m,\u001b[49m\u001b[43m \u001b[49m\u001b[43mscreenshotIm\u001b[49m\u001b[43m,\u001b[49m\u001b[43m \u001b[49m\u001b[38;5;241;43m*\u001b[39;49m\u001b[38;5;241;43m*\u001b[39;49m\u001b[43mkwargs\u001b[49m\u001b[43m)\u001b[49m\n\u001b[0;32m    406\u001b[0m     \u001b[38;5;28;01mtry\u001b[39;00m:\n\u001b[0;32m    407\u001b[0m         screenshotIm\u001b[38;5;241m.\u001b[39mfp\u001b[38;5;241m.\u001b[39mclose()\n",
      "File \u001b[1;32m~\\AppData\\Local\\Packages\\PythonSoftwareFoundation.Python.3.11_qbz5n2kfra8p0\\LocalCache\\local-packages\\Python311\\site-packages\\pyscreeze\\__init__.py:383\u001b[0m, in \u001b[0;36mlocate\u001b[1;34m(needleImage, haystackImage, **kwargs)\u001b[0m\n\u001b[0;32m    380\u001b[0m \u001b[38;5;66;03m# Note: The gymnastics in this function is because we want to make sure to exhaust the iterator so that\u001b[39;00m\n\u001b[0;32m    381\u001b[0m \u001b[38;5;66;03m# the needle and haystack files are closed in locateAll.\u001b[39;00m\n\u001b[0;32m    382\u001b[0m kwargs[\u001b[38;5;124m'\u001b[39m\u001b[38;5;124mlimit\u001b[39m\u001b[38;5;124m'\u001b[39m] \u001b[38;5;241m=\u001b[39m \u001b[38;5;241m1\u001b[39m\n\u001b[1;32m--> 383\u001b[0m points \u001b[38;5;241m=\u001b[39m \u001b[38;5;28mtuple\u001b[39m(locateAll(needleImage, haystackImage, \u001b[38;5;241m*\u001b[39m\u001b[38;5;241m*\u001b[39mkwargs))\n\u001b[0;32m    384\u001b[0m \u001b[38;5;28;01mif\u001b[39;00m \u001b[38;5;28mlen\u001b[39m(points) \u001b[38;5;241m>\u001b[39m \u001b[38;5;241m0\u001b[39m:\n\u001b[0;32m    385\u001b[0m     \u001b[38;5;28;01mreturn\u001b[39;00m points[\u001b[38;5;241m0\u001b[39m]\n",
      "File \u001b[1;32m~\\AppData\\Local\\Packages\\PythonSoftwareFoundation.Python.3.11_qbz5n2kfra8p0\\LocalCache\\local-packages\\Python311\\site-packages\\pyscreeze\\__init__.py:251\u001b[0m, in \u001b[0;36m_locateAll_opencv\u001b[1;34m(needleImage, haystackImage, grayscale, limit, region, step, confidence)\u001b[0m\n\u001b[0;32m    248\u001b[0m     step \u001b[38;5;241m=\u001b[39m \u001b[38;5;241m1\u001b[39m\n\u001b[0;32m    250\u001b[0m \u001b[38;5;66;03m# get all matches at once, credit: https://stackoverflow.com/questions/7670112/finding-a-subimage-inside-a-numpy-image/9253805#9253805\u001b[39;00m\n\u001b[1;32m--> 251\u001b[0m result \u001b[38;5;241m=\u001b[39m \u001b[43mcv2\u001b[49m\u001b[38;5;241;43m.\u001b[39;49m\u001b[43mmatchTemplate\u001b[49m\u001b[43m(\u001b[49m\u001b[43mhaystackImage\u001b[49m\u001b[43m,\u001b[49m\u001b[43m \u001b[49m\u001b[43mneedleImage\u001b[49m\u001b[43m,\u001b[49m\u001b[43m \u001b[49m\u001b[43mcv2\u001b[49m\u001b[38;5;241;43m.\u001b[39;49m\u001b[43mTM_CCOEFF_NORMED\u001b[49m\u001b[43m)\u001b[49m\n\u001b[0;32m    252\u001b[0m match_indices \u001b[38;5;241m=\u001b[39m numpy\u001b[38;5;241m.\u001b[39marange(result\u001b[38;5;241m.\u001b[39msize)[(result \u001b[38;5;241m>\u001b[39m confidence)\u001b[38;5;241m.\u001b[39mflatten()]\n\u001b[0;32m    253\u001b[0m matches \u001b[38;5;241m=\u001b[39m numpy\u001b[38;5;241m.\u001b[39munravel_index(match_indices[:limit], result\u001b[38;5;241m.\u001b[39mshape)\n",
      "\u001b[1;31mKeyboardInterrupt\u001b[0m: "
     ]
    }
   ],
   "source": [
    "aceita_reforco_energia_pago = False\n",
    "main(aceita_reforco_energia_pago)"
   ]
  }
 ],
 "metadata": {
  "kernelspec": {
   "display_name": "Python 3",
   "language": "python",
   "name": "python3"
  },
  "language_info": {
   "codemirror_mode": {
    "name": "ipython",
    "version": 3
   },
   "file_extension": ".py",
   "mimetype": "text/x-python",
   "name": "python",
   "nbconvert_exporter": "python",
   "pygments_lexer": "ipython3",
   "version": "3.11.9"
  }
 },
 "nbformat": 4,
 "nbformat_minor": 2
}
